{
 "cells": [
  {
   "cell_type": "code",
   "execution_count": 31,
   "metadata": {
    "collapsed": true
   },
   "outputs": [],
   "source": [
    "import pandas as pd\n",
    "import sqlalchemy\n",
    "from sqlalchemy import create_engine\n",
    "import sys\n",
    "import numpy as np"
   ]
  },
  {
   "cell_type": "code",
   "execution_count": 6,
   "metadata": {},
   "outputs": [],
   "source": [
    "observation = pd.read_csv(\"/Users/Chris/Google Drive/FHNW/IRIS/20140101observation\")\n",
    "centroid_count = pd.read_csv(\"/Users/Chris/Google Drive/FHNW/IRIS/20140101centroid_count\")\n",
    "ypixels = pd.read_pickle(\"/Users/Chris/Google Drive/FHNW/IRIS/20140101ypixels_pickle\")\n",
    "\n",
    "#Fehler korigieren aus dem Skript\n",
    "observation['observation'] = observation['observation'].str.slice(start=12)\n",
    "centroid_count = centroid_count.rename(columns={'observation': 'id_observation'})\n"
   ]
  },
  {
   "cell_type": "code",
   "execution_count": 32,
   "metadata": {},
   "outputs": [],
   "source": [
    "engine = create_engine('postgres://postgres@/iris')\n",
    "con = engine.connect()"
   ]
  },
  {
   "source": [
    "observation.to_sql('observation', con, index=False, if_exists='append')"
   ],
   "cell_type": "code",
   "metadata": {},
   "execution_count": 8,
   "outputs": []
  },
  {
   "cell_type": "code",
   "execution_count": 9,
   "metadata": {},
   "outputs": [],
   "source": [
    "centroid_count.to_sql('centroid_count', con, index=False, if_exists='append')"
   ]
  },
  {
   "cell_type": "code",
   "execution_count": 10,
   "metadata": {},
   "outputs": [],
   "source": [
    "ypixels['ypixels'] = ypixels['ypixels'].apply(lambda x: x.tolist()) #psycopg2 can't handle np.ndarry \n",
    "ypixels.to_sql('ypixels', con, index=False, if_exists='append')"
   ]
  },
  {
   "cell_type": "code",
   "execution_count": 46,
   "metadata": {},
   "outputs": [
    {
     "output_type": "stream",
     "name": "stdout",
     "text": [
      "17\n"
     ]
    }
   ],
   "source": [
    "highest_entry = con.execute('SELECT \"id_observation\" FROM \"observation\" ORDER BY \"id_observation\" DESC LIMIT 1', con) #last obdervation id\n",
    "highest_entry = [row[0] for row in highest_entry][0]+1\n",
    "print(highest_entry)"
   ]
  },
  {
   "cell_type": "code",
   "execution_count": 11,
   "metadata": {},
   "outputs": [],
   "source": [
    "sqlalchemy.engine.Connection.close(con)\n"
   ]
  }
 ],
 "metadata": {
  "kernelspec": {
   "name": "Python 3.7.4 64-bit ('scrape': conda)",
   "display_name": "Python 3.7.4 64-bit ('scrape': conda)",
   "metadata": {
    "interpreter": {
     "hash": "70d7df0fad4fd42de8a095d7a7038724cf2922f393f217997d6cd07ef9c7090c"
    }
   }
  },
  "language_info": {
   "codemirror_mode": {
    "name": "ipython",
    "version": 2
   },
   "file_extension": ".py",
   "mimetype": "text/x-python",
   "name": "python",
   "nbconvert_exporter": "python",
   "pygments_lexer": "ipython2",
   "version": "3.7.4-final"
  }
 },
 "nbformat": 4,
 "nbformat_minor": 0
}